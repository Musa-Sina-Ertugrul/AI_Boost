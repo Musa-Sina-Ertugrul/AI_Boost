{
 "cells": [
  {
   "cell_type": "code",
   "execution_count": 2,
   "metadata": {},
   "outputs": [],
   "source": [
    "import numpy as np\n",
    "import pandas as pd\n",
    "import build.AIBoost as aib\n",
    "from build.AIBoost import DataSet\n",
    "from build.AIBoost import Model\n",
    "from build.AIBoost import Layer\n",
    "\n"
   ]
  },
  {
   "cell_type": "code",
   "execution_count": 8,
   "metadata": {},
   "outputs": [],
   "source": [
    "df_train = pd.read_csv(\"/home/musasina/Desktop/AI_Boost/and.csv\",delimiter = \",\").sample(frac=1)\n",
    "train_data = df_train.iloc[:,:2].values.astype(float).tolist()\n",
    "train_result = df_train.iloc[:,2].values.astype(float).tolist()\n",
    "train_result = np.array(train_result,dtype=float).reshape((3,1)).tolist()\n"
   ]
  },
  {
   "cell_type": "code",
   "execution_count": 9,
   "metadata": {},
   "outputs": [
    {
     "name": "stdout",
     "output_type": "stream",
     "text": [
      "3 3 2 1\n"
     ]
    }
   ],
   "source": [
    "print(str(len(train_data))+\" \"+str(len(train_result))+\" \"+str(len(train_data[0]))+\" \"+str(len(train_result[0])))"
   ]
  },
  {
   "cell_type": "code",
   "execution_count": 4,
   "metadata": {},
   "outputs": [],
   "source": [
    "train_data_vec = aib.FloatVectorVector()\n",
    "train_data_vec.reserve(3)\n",
    "train_result_vec = aib.FloatVectorVector()\n",
    "train_result_vec.reserve(3)"
   ]
  },
  {
   "cell_type": "code",
   "execution_count": 5,
   "metadata": {},
   "outputs": [],
   "source": [
    "for row in train_data:\n",
    "    tmp = aib.FloatVector()\n",
    "    tmp.reserve(len(row))\n",
    "    for col in row:\n",
    "        tmp.push_back(float(col))\n",
    "    train_data_vec.push_back(tmp)\n",
    "for row in train_result:\n",
    "    tmp = aib.FloatVector()\n",
    "    tmp.reserve(len(row))\n",
    "    for col in row:\n",
    "        tmp.push_back(float(col))"
   ]
  },
  {
   "cell_type": "code",
   "execution_count": 6,
   "metadata": {},
   "outputs": [],
   "source": [
    "\n",
    "dataset = DataSet(train_data_vec,train_result_vec,3,2,3,1)\n",
    "\n",
    "tanhF = aib.Tanh\n",
    "sigmoid = aib.Sigmoid\n",
    "l1reg = aib.L1\n",
    "CELoos = aib.CELoss\n",
    "BCELoss = aib.BCELoss\n",
    "\n",
    "layer1 = Layer(2,3,tanhF)\n",
    "layer3 = Layer(3,1,sigmoid)"
   ]
  },
  {
   "cell_type": "code",
   "execution_count": 8,
   "metadata": {},
   "outputs": [],
   "source": [
    "layer_list = aib.LayerPtrVector()\n",
    "for i in [layer1,layer3]:\n",
    "    layer_list.push_back(i)\n",
    "model = Model(layer_list,dataset,False,30,0.0,l1reg,0.0,BCELoss,0.001,True,3,2)\n"
   ]
  },
  {
   "cell_type": "code",
   "execution_count": null,
   "metadata": {},
   "outputs": [
    {
     "ename": "",
     "evalue": "",
     "output_type": "error",
     "traceback": [
      "\u001b[1;31mCanceled future for execute_request message before replies were done"
     ]
    },
    {
     "ename": "",
     "evalue": "",
     "output_type": "error",
     "traceback": [
      "\u001b[1;31mThe Kernel crashed while executing code in the the current cell or a previous cell. Please review the code in the cell(s) to identify a possible cause of the failure. Click <a href='https://aka.ms/vscodeJupyterKernelCrash'>here</a> for more info. View Jupyter <a href='command:jupyter.viewOutput'>log</a> for further details."
     ]
    }
   ],
   "source": [
    "\n",
    "model.trainModel()"
   ]
  }
 ],
 "metadata": {
  "kernelspec": {
   "display_name": "Python 3 (ipykernel)",
   "language": "python",
   "name": "python3"
  },
  "language_info": {
   "codemirror_mode": {
    "name": "ipython",
    "version": 3
   },
   "file_extension": ".py",
   "mimetype": "text/x-python",
   "name": "python",
   "nbconvert_exporter": "python",
   "pygments_lexer": "ipython3",
   "version": "3.10.6"
  }
 },
 "nbformat": 4,
 "nbformat_minor": 2
}
